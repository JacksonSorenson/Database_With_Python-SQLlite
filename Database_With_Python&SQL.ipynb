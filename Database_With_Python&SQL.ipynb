{
 "cells": [
  {
   "cell_type": "code",
   "execution_count": 1,
   "id": "ebc05160-934b-40a1-bcce-0f3eb95d91a9",
   "metadata": {},
   "outputs": [],
   "source": [
    "import sqlite3"
   ]
  },
  {
   "cell_type": "code",
   "execution_count": 2,
   "id": "5a6771be-ddbd-421a-a003-d32e438aa004",
   "metadata": {},
   "outputs": [],
   "source": [
    "class Person:\n",
    "    def __init__(self, id_number, first, last, age) :\n",
    "        self.id_number = id_number\n",
    "        self.first = first\n",
    "        self.last = last\n",
    "        self.age = age\n",
    "        self.con = sqlite3.connect('mydata.db')\n",
    "        self.cursor = self.con.cursor()\n",
    "\n",
    "    def load_person(self, id_number) : \n",
    "        cursor.execute(\"\"\"\n",
    "        SELECT * FROM persons\n",
    "        WHERE id = ?\n",
    "        \"\"\", (id_number,))\n",
    "        \n",
    "        results = cursor.fetchone()\n",
    "        \n",
    "        if results:\n",
    "            self.id_number = results [0]\n",
    "            self.first = results [1]\n",
    "            self.last = results [2]\n",
    "            self.age = results [3]\n",
    "        else:\n",
    "            print(\"No person was found with the the : {id_number}\")"
   ]
  },
  {
   "cell_type": "code",
   "execution_count": 3,
   "id": "0715a004-a3c0-41ed-9ff6-a3337da17076",
   "metadata": {},
   "outputs": [
    {
     "name": "stdout",
     "output_type": "stream",
     "text": [
      "[(1, 'Paul', 'Smith', 24), (3, 'Anna', 'Smith', 34)]\n"
     ]
    }
   ],
   "source": [
    "con = sqlite3.connect('mydata.db')\n",
    "cursor = con.cursor()\n",
    "\n",
    "cursor.execute(\"DROP TABLE IF EXISTS persons\")\n",
    "\n",
    "cursor.execute(\"\"\"\n",
    "    CREATE TABLE persons (\n",
    "    id INTEGER PRIMARY KEY,\n",
    "    first_name TEXT,\n",
    "    last_name TEXT,\n",
    "    age INTEGER\n",
    ")\n",
    "\"\"\")\n",
    "\n",
    "cursor.execute(\"\"\"\n",
    "INSERT INTO persons (id, first_name, last_name, age) VALUES\n",
    "(1, 'Paul', 'Smith', 24),\n",
    "(2, 'Mark', 'Johnson', 42),\n",
    "(3, 'Anna', 'Smith', 34)\n",
    "\"\"\")\n",
    "\n",
    "cursor.execute(\"\"\"\n",
    "SELECT * FROM persons\n",
    "WHERE last_name = 'Smith'\n",
    "\"\"\")\n",
    "\n",
    "rows = cursor.fetchall()\n",
    "print(rows)\n",
    "\n",
    "\n",
    "\n",
    "con.commit()\n",
    "con.close()"
   ]
  },
  {
   "cell_type": "code",
   "execution_count": 4,
   "id": "d0e67ee1-2312-4271-acd2-ae6c62056c3d",
   "metadata": {},
   "outputs": [
    {
     "name": "stdout",
     "output_type": "stream",
     "text": [
      "[(1, 'Paul', 'Smith', 24), (2, 'Mark', 'Johnson', 42), (3, 'Anna', 'Smith', 34), (8, 'Alex', 'Sorenson', 28)]\n"
     ]
    }
   ],
   "source": [
    "p1 = Person(8, \"Alex\", \"Sorenson\", 28)\n",
    "p1.cursor.execute(\"\"\"\n",
    "INSERT INTO persons (id, first_name, last_name, age) VALUES (?,?,?,?)\n",
    "\"\"\", (p1.id_number, p1.first, p1.last, p1.age))\n",
    "\n",
    "p1.con.commit()\n",
    "                  \n",
    "con = sqlite3.connect('mydata.db')\n",
    "cursor = con.cursor()\n",
    "\n",
    "cursor.execute(\"SELECT * FROM persons\")\n",
    "results = cursor.fetchall()\n",
    "print(results)\n",
    "\n",
    "con.close()"
   ]
  },
  {
   "cell_type": "code",
   "execution_count": null,
   "id": "ae46076a-3abc-4613-a049-5e73f08924d3",
   "metadata": {},
   "outputs": [],
   "source": []
  }
 ],
 "metadata": {
  "kernelspec": {
   "display_name": "Python 3 (ipykernel)",
   "language": "python",
   "name": "python3"
  },
  "language_info": {
   "codemirror_mode": {
    "name": "ipython",
    "version": 3
   },
   "file_extension": ".py",
   "mimetype": "text/x-python",
   "name": "python",
   "nbconvert_exporter": "python",
   "pygments_lexer": "ipython3",
   "version": "3.12.4"
  }
 },
 "nbformat": 4,
 "nbformat_minor": 5
}
